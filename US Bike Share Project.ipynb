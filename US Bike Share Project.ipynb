{
 "cells": [
  {
   "cell_type": "markdown",
   "id": "19f0f2ee",
   "metadata": {},
   "source": [
    "### Loading data"
   ]
  },
  {
   "cell_type": "code",
   "execution_count": 1,
   "id": "aad13652",
   "metadata": {},
   "outputs": [],
   "source": [
    "#Importing necessary libraries \n",
    "import pandas as pd\n",
    "\n",
    "#Loading data\n",
    "dfn=pd.read_csv(\"new_york_city.csv\")\n",
    "dfc=pd.read_csv(\"chicago.csv\")\n",
    "dfw=pd.read_csv(\"washington.csv\")"
   ]
  },
  {
   "cell_type": "code",
   "execution_count": 2,
   "id": "152ae8b9",
   "metadata": {
    "scrolled": false
   },
   "outputs": [
    {
     "name": "stdout",
     "output_type": "stream",
     "text": [
      "<class 'pandas.core.frame.DataFrame'>\n",
      "RangeIndex: 6816254 entries, 0 to 6816253\n",
      "Data columns (total 8 columns):\n",
      " #   Column         Dtype  \n",
      "---  ------         -----  \n",
      " 0   Start Time     object \n",
      " 1   End Time       object \n",
      " 2   Trip Duration  int64  \n",
      " 3   Start Station  object \n",
      " 4   End Station    object \n",
      " 5   User Type      object \n",
      " 6   Gender         object \n",
      " 7   Birth Year     float64\n",
      "dtypes: float64(1), int64(1), object(6)\n",
      "memory usage: 416.0+ MB\n"
     ]
    }
   ],
   "source": [
    "#Inspecting newyork data\n",
    "dfn.info()"
   ]
  },
  {
   "cell_type": "code",
   "execution_count": 3,
   "id": "c90c09d5",
   "metadata": {},
   "outputs": [
    {
     "name": "stdout",
     "output_type": "stream",
     "text": [
      "<class 'pandas.core.frame.DataFrame'>\n",
      "RangeIndex: 1551505 entries, 0 to 1551504\n",
      "Data columns (total 8 columns):\n",
      " #   Column         Non-Null Count    Dtype  \n",
      "---  ------         --------------    -----  \n",
      " 0   Start Time     1551505 non-null  object \n",
      " 1   End Time       1551505 non-null  object \n",
      " 2   Trip Duration  1551505 non-null  int64  \n",
      " 3   Start Station  1551505 non-null  object \n",
      " 4   End Station    1551505 non-null  object \n",
      " 5   User Type      1551505 non-null  object \n",
      " 6   Gender         1234638 non-null  object \n",
      " 7   Birth Year     1234822 non-null  float64\n",
      "dtypes: float64(1), int64(1), object(6)\n",
      "memory usage: 94.7+ MB\n"
     ]
    }
   ],
   "source": [
    "#Inspecting chicago data\n",
    "dfc.info()"
   ]
  },
  {
   "cell_type": "code",
   "execution_count": 4,
   "id": "29d2cedb",
   "metadata": {},
   "outputs": [
    {
     "name": "stdout",
     "output_type": "stream",
     "text": [
      "<class 'pandas.core.frame.DataFrame'>\n",
      "RangeIndex: 1751452 entries, 0 to 1751451\n",
      "Data columns (total 6 columns):\n",
      " #   Column         Dtype  \n",
      "---  ------         -----  \n",
      " 0   Start Time     object \n",
      " 1   End Time       object \n",
      " 2   Trip Duration  float64\n",
      " 3   Start Station  object \n",
      " 4   End Station    object \n",
      " 5   User Type      object \n",
      "dtypes: float64(1), object(5)\n",
      "memory usage: 80.2+ MB\n"
     ]
    }
   ],
   "source": [
    "#Inspecting washington data\n",
    "dfw.info()"
   ]
  },
  {
   "cell_type": "markdown",
   "id": "c202c6bf",
   "metadata": {},
   "source": [
    "### Combining all three datasets together"
   ]
  },
  {
   "cell_type": "code",
   "execution_count": 5,
   "id": "b71a0373",
   "metadata": {},
   "outputs": [],
   "source": [
    "#Combining all three datasets together\n",
    "df=pd.concat([dfn, dfc,dfw], axis=0)\n",
    "\n",
    "#Now converting the Start Time & End Time columns to datetime\n",
    "df['Start Time']=pd.to_datetime(df['Start Time'])\n",
    "df['End Time']=pd.to_datetime(df['End Time'])"
   ]
  },
  {
   "cell_type": "code",
   "execution_count": 6,
   "id": "958c3f56",
   "metadata": {},
   "outputs": [
    {
     "data": {
      "text/plain": [
       "Start Time       datetime64[ns]\n",
       "End Time         datetime64[ns]\n",
       "Trip Duration           float64\n",
       "Start Station            object\n",
       "End Station              object\n",
       "User Type                object\n",
       "Gender                   object\n",
       "Birth Year              float64\n",
       "dtype: object"
      ]
     },
     "execution_count": 6,
     "metadata": {},
     "output_type": "execute_result"
    }
   ],
   "source": [
    "#Inspecting new dataframe df's column types\n",
    "df.dtypes"
   ]
  },
  {
   "cell_type": "code",
   "execution_count": 7,
   "id": "ce13d50e",
   "metadata": {},
   "outputs": [
    {
     "data": {
      "text/plain": [
       "Start Time             0\n",
       "End Time               0\n",
       "Trip Duration          0\n",
       "Start Station          0\n",
       "End Station            0\n",
       "User Type          15909\n",
       "Gender           2736424\n",
       "Birth Year       2713307\n",
       "dtype: int64"
      ]
     },
     "execution_count": 7,
     "metadata": {},
     "output_type": "execute_result"
    }
   ],
   "source": [
    "#Finding missing values in dataframe\n",
    "df.isnull().sum()\n",
    "\n",
    "#Not treating missing values as Gender & BirthYear are not part of the analysis.\n",
    "#User Type has missing fields too, but not imputing it. "
   ]
  },
  {
   "cell_type": "code",
   "execution_count": 8,
   "id": "1805aa24",
   "metadata": {},
   "outputs": [
    {
     "data": {
      "text/plain": [
       "917"
      ]
     },
     "execution_count": 8,
     "metadata": {},
     "output_type": "execute_result"
    }
   ],
   "source": [
    "#Finding duplicates\n",
    "df.duplicated().sum()"
   ]
  },
  {
   "cell_type": "code",
   "execution_count": 9,
   "id": "144644eb",
   "metadata": {},
   "outputs": [],
   "source": [
    "#Dropping duplicates\n",
    "df.drop_duplicates(inplace=True)"
   ]
  },
  {
   "cell_type": "markdown",
   "id": "06ddcdc1",
   "metadata": {},
   "source": [
    "### 1.\tWhat is the most popular month for start time?"
   ]
  },
  {
   "cell_type": "code",
   "execution_count": 10,
   "id": "36eace2a",
   "metadata": {},
   "outputs": [
    {
     "data": {
      "text/plain": [
       "'June'"
      ]
     },
     "execution_count": 10,
     "metadata": {},
     "output_type": "execute_result"
    }
   ],
   "source": [
    "df[\"Start Time\"].dt.month_name().mode()[0]"
   ]
  },
  {
   "cell_type": "markdown",
   "id": "b5ef82f5",
   "metadata": {},
   "source": [
    "### 2. What is the most popular day of week for start time?"
   ]
  },
  {
   "cell_type": "code",
   "execution_count": 11,
   "id": "0878e860",
   "metadata": {},
   "outputs": [
    {
     "data": {
      "text/plain": [
       "'Wednesday'"
      ]
     },
     "execution_count": 11,
     "metadata": {},
     "output_type": "execute_result"
    }
   ],
   "source": [
    "df[\"Start Time\"].dt.day_name().mode()[0]"
   ]
  },
  {
   "cell_type": "markdown",
   "id": "1972f3a6",
   "metadata": {},
   "source": [
    "### 3. What is the most popular hour of day for start time?"
   ]
  },
  {
   "cell_type": "code",
   "execution_count": 12,
   "id": "2763f0f4",
   "metadata": {},
   "outputs": [
    {
     "data": {
      "text/plain": [
       "17"
      ]
     },
     "execution_count": 12,
     "metadata": {},
     "output_type": "execute_result"
    }
   ],
   "source": [
    "df[\"Start Time\"].dt.hour.mode()[0]"
   ]
  },
  {
   "cell_type": "markdown",
   "id": "b3a68fd9",
   "metadata": {},
   "source": [
    "### 4. What is the total trip duration and average trip duration?"
   ]
  },
  {
   "cell_type": "code",
   "execution_count": 13,
   "id": "17c83056",
   "metadata": {},
   "outputs": [
    {
     "data": {
      "text/plain": [
       "10212482562.555016"
      ]
     },
     "execution_count": 13,
     "metadata": {},
     "output_type": "execute_result"
    }
   ],
   "source": [
    "#For better reporting purpose, the below output can be shown in minutes/hours\n",
    "#Total Trip Duration (in seconds)\n",
    "df[\"Trip Duration\"].sum()"
   ]
  },
  {
   "cell_type": "code",
   "execution_count": 14,
   "id": "eb502eb0",
   "metadata": {},
   "outputs": [
    {
     "data": {
      "text/plain": [
       "1009.3087394530161"
      ]
     },
     "execution_count": 14,
     "metadata": {},
     "output_type": "execute_result"
    }
   ],
   "source": [
    "#Average Trip Duration (in seconds)\n",
    "df[\"Trip Duration\"].mean()"
   ]
  },
  {
   "cell_type": "markdown",
   "id": "51087c4f",
   "metadata": {},
   "source": [
    "### 5. What is the most popular start station and most popular end station?"
   ]
  },
  {
   "cell_type": "code",
   "execution_count": 15,
   "id": "f0be540c",
   "metadata": {},
   "outputs": [
    {
     "data": {
      "text/plain": [
       "'Pershing Square North'"
      ]
     },
     "execution_count": 15,
     "metadata": {},
     "output_type": "execute_result"
    }
   ],
   "source": [
    "#Most popular Start Station\n",
    "df[\"Start Station\"].mode()[0]"
   ]
  },
  {
   "cell_type": "code",
   "execution_count": 16,
   "id": "b1a002a9",
   "metadata": {},
   "outputs": [
    {
     "data": {
      "text/plain": [
       "'Pershing Square North'"
      ]
     },
     "execution_count": 16,
     "metadata": {},
     "output_type": "execute_result"
    }
   ],
   "source": [
    "#Most popular End Station\n",
    "df[\"End Station\"].mode()[0]"
   ]
  },
  {
   "cell_type": "markdown",
   "id": "7044b60f",
   "metadata": {},
   "source": [
    "### 6. What is the most popular trip?"
   ]
  },
  {
   "cell_type": "code",
   "execution_count": 17,
   "id": "031cbd68",
   "metadata": {},
   "outputs": [
    {
     "data": {
      "text/plain": [
       "'Lake Shore Dr & Monroe St to Streeter Dr & Grand Ave'"
      ]
     },
     "execution_count": 17,
     "metadata": {},
     "output_type": "execute_result"
    }
   ],
   "source": [
    "#Creating a new column by combining Start and End stations.\n",
    "df[\"Trip\"]=df[\"Start Station\"] +\" to \"+ df[\"End Station\"]\n",
    "df[\"Trip\"].mode()[0]"
   ]
  },
  {
   "cell_type": "markdown",
   "id": "9a4b42b5",
   "metadata": {},
   "source": [
    "### 7. What are the counts of each user type?"
   ]
  },
  {
   "cell_type": "code",
   "execution_count": 18,
   "id": "a8db39a3",
   "metadata": {},
   "outputs": [
    {
     "data": {
      "text/plain": [
       "Subscriber    8639462\n",
       "Customer      1462919\n",
       "Dependent           4\n",
       "Name: User Type, dtype: int64"
      ]
     },
     "execution_count": 18,
     "metadata": {},
     "output_type": "execute_result"
    }
   ],
   "source": [
    "df[\"User Type\"].value_counts()"
   ]
  },
  {
   "cell_type": "code",
   "execution_count": null,
   "id": "e36782d0",
   "metadata": {},
   "outputs": [],
   "source": []
  }
 ],
 "metadata": {
  "kernelspec": {
   "display_name": "Python 3 (ipykernel)",
   "language": "python",
   "name": "python3"
  },
  "language_info": {
   "codemirror_mode": {
    "name": "ipython",
    "version": 3
   },
   "file_extension": ".py",
   "mimetype": "text/x-python",
   "name": "python",
   "nbconvert_exporter": "python",
   "pygments_lexer": "ipython3",
   "version": "3.11.3"
  }
 },
 "nbformat": 4,
 "nbformat_minor": 5
}
